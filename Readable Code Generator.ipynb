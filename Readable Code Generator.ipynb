{
 "cells": [
  {
   "cell_type": "markdown",
   "metadata": {},
   "source": [
    "# Run the cell below to activate the program"
   ]
  },
  {
   "cell_type": "code",
   "execution_count": 1,
   "metadata": {},
   "outputs": [],
   "source": [
    "# Set the default parameters\n",
    "OutputList = None\n",
    "bio_type_code = 0\n",
    "cellulose_type = None\n",
    "lignin_type = None\n",
    "ifDMSO = False\n",
    "ifGLy = False\n",
    "Gly_wt = 0\n",
    "bio_wt = 0\n",
    "ratio = 0\n",
    "\n",
    "def getGly(theStr):\n",
    "    global ifGLy,Gly_wt\n",
    "    if 'ly' in theStr:\n",
    "        ifGLy = True\n",
    "        Gly_wt = theStr.split('ly')[-1]\n",
    "        #print('Gly_wt',Gly_wt)\n",
    "\n",
    "        \n",
    "def getDMSO_type(theStr):\n",
    "    global ifDMSO, bio_type_code\n",
    "    if 'DMSO' in theStr:\n",
    "        ifDMSO = True\n",
    "        bio_type_code = theStr.split('DMSO')[0]\n",
    "        #print('bio_type_code',bio_type_code)\n",
    "    elif 'DMSO' not in theStr:\n",
    "        bio_type_code = theStr.split('DMSO')[0]\n",
    "        #print('bio_type_code',bio_type_code)\n",
    "\n",
    "        \n",
    "def getBioWt(theStr):\n",
    "    global bio_wt\n",
    "    if 'wt' in theStr:\n",
    "        bio_wt = int(theStr.split('wt')[0])\n",
    "        #print('bio_wt',bio_wt)\n",
    "    else:\n",
    "        print('error,', theStr)\n",
    "        \n",
    "def getRatio(theStr):\n",
    "    global ratio\n",
    "    if '1000' in theStr:\n",
    "        ratio = '100:0'\n",
    "    elif '7525' in theStr:\n",
    "        ratio = '75:25'\n",
    "    elif '5050' in theStr:\n",
    "        ratio = '50:50'\n",
    "    else:\n",
    "        print('error,', theStr)\n",
    "    #print('ratio',ratio)\n",
    "    \n",
    "def getCelluloseLigninType(theStr):\n",
    "    global cellulose_type,lignin_type\n",
    "    theCodeList = [int(x) for x in str(bio_type_code)]\n",
    "    #print(theCodeList)\n",
    "    if theCodeList[0] == 1:\n",
    "        cellulose_type = 'C-101'\n",
    "    elif theCodeList[0] == 2:\n",
    "        cellulose_type = 'C-112'\n",
    "    else:\n",
    "        print('error,', theCodeList[0])\n",
    "\n",
    "    if theCodeList[1] == 1:\n",
    "        lignin_type = 'L-Kraft'\n",
    "    elif theCodeList[1] == 2:\n",
    "        lignin_type = 'L-Iono'\n",
    "    else:\n",
    "        print('error,', theCodeList[1])\n",
    "    #print('cellulose_type,', cellulose_type)\n",
    "    #print('lignin_type,', lignin_type)\n",
    "\n",
    "\n",
    "def getConvtStr():\n",
    "    global cellulose_type,lignin_type,ifDMSO,ifGLy,Gly_wt,bio_wt,ratio\n",
    "    raw_result = [cellulose_type,lignin_type,str(bio_wt)+' wt.%',ratio]\n",
    "    if ifDMSO:\n",
    "        raw_result.append('DMSO;')\n",
    "    elif ifGLy:\n",
    "        raw_result.append('Glycerol('+str(Gly_wt)+' wt.%);')\n",
    "    #print(raw_result)\n",
    "    real_result = ', '.join(raw_result)\n",
    "    if ';' not in real_result:\n",
    "        real_result = real_result+';'\n",
    "        \n",
    "    return real_result      \n",
    "\n",
    "    \n",
    "    \n",
    "#Split all the element\n",
    "def theSplitter(InputStr):\n",
    "    OutputOfStr = InputStr.split('_')\n",
    "    OutputList = [] # Splitted output\n",
    "\n",
    "    for i in OutputOfStr:\n",
    "        if '-' in i:\n",
    "            temp_ele = i.split('-')\n",
    "            for k in temp_ele:\n",
    "                OutputList.append(k)\n",
    "        else:\n",
    "            OutputList.append(i)\n",
    "    return OutputList\n",
    "        \n",
    "def theFinalConverter(InputStr):\n",
    "    global OutputList,bio_type_code,cellulose_type,lignin_type,ifDMSO,ifGLy,Gly_wt,bio_wt,ratio\n",
    "    OutputList = None\n",
    "    bio_type_code = 0\n",
    "    cellulose_type = None\n",
    "    lignin_type = None\n",
    "    ifDMSO = False\n",
    "    ifGLy = False\n",
    "    Gly_wt = 0\n",
    "    bio_wt = 0\n",
    "    ratio = 0\n",
    "    \n",
    "    OutputList = theSplitter(InputStr)\n",
    "    getGly(OutputList[0])\n",
    "    getDMSO_type(OutputList[1])\n",
    "    getBioWt(OutputList[2])\n",
    "    getRatio(OutputList[3])\n",
    "    getCelluloseLigninType(bio_type_code)\n",
    "    print('Your input:', InputStr)\n",
    "    print('Readable code:',getConvtStr())\n",
    "    print('\\n')"
   ]
  },
  {
   "cell_type": "markdown",
   "metadata": {},
   "source": [
    "# Use the function 'theFinalConverter(...str)' to convert to readable code"
   ]
  },
  {
   "cell_type": "code",
   "execution_count": 2,
   "metadata": {},
   "outputs": [
    {
     "data": {
      "text/plain": [
       "'\\nIt is used to generate the readable code from the mere 4 examples below:\\n'"
      ]
     },
     "execution_count": 2,
     "metadata": {},
     "output_type": "execute_result"
    }
   ],
   "source": [
    "'''\n",
    "It is used to generate the readable code from the mere 4 examples below:\n",
    "'''"
   ]
  },
  {
   "cell_type": "code",
   "execution_count": 3,
   "metadata": {},
   "outputs": [
    {
     "name": "stdout",
     "output_type": "stream",
     "text": [
      "Your input: 12gly25-21_5wt_7525\n",
      "Readable code: C-112, L-Kraft, 5 wt.%, 75:25, Glycerol(25 wt.%);\n",
      "\n",
      "\n",
      "Your input: 04-11_25wt_1000\n",
      "Readable code: C-101, L-Kraft, 25 wt.%, 100:0;\n",
      "\n",
      "\n",
      "Your input: 12-21DMSO_5wt_7525\n",
      "Readable code: C-112, L-Kraft, 5 wt.%, 75:25, DMSO;\n",
      "\n",
      "\n",
      "Your input: 22(12)-21_7wt_7525\n",
      "Readable code: C-112, L-Kraft, 7 wt.%, 75:25;\n",
      "\n",
      "\n"
     ]
    }
   ],
   "source": [
    "# Examples\n",
    "# EXCEL CODE:\n",
    "# '12gly25-21_5wt_7525'\n",
    "# Readable code as the output\n",
    "theFinalConverter('12gly25-21_5wt_7525')\n",
    "\n",
    "# EXCEL CODE:\n",
    "# '04-11_25wt_1000'\n",
    "# Readable code as the output\n",
    "theFinalConverter('04-11_25wt_1000')\n",
    "\n",
    "# EXCEL CODE:\n",
    "# '12-21DMSO_5wt_7525'\n",
    "# Readable code as the output\n",
    "theFinalConverter('12-21DMSO_5wt_7525')\n",
    "\n",
    "# EXCEL CODE:\n",
    "# '22(12)-21_7wt_7525'\n",
    "# Readable code as the output\n",
    "theFinalConverter('22(12)-21_7wt_7525')\n"
   ]
  },
  {
   "cell_type": "markdown",
   "metadata": {},
   "source": [
    "# Your work below:"
   ]
  },
  {
   "cell_type": "code",
   "execution_count": null,
   "metadata": {},
   "outputs": [],
   "source": []
  }
 ],
 "metadata": {
  "kernelspec": {
   "display_name": "Python 3",
   "language": "python",
   "name": "python3"
  },
  "language_info": {
   "codemirror_mode": {
    "name": "ipython",
    "version": 3
   },
   "file_extension": ".py",
   "mimetype": "text/x-python",
   "name": "python",
   "nbconvert_exporter": "python",
   "pygments_lexer": "ipython3",
   "version": "3.8.5"
  },
  "toc": {
   "base_numbering": 1,
   "nav_menu": {},
   "number_sections": true,
   "sideBar": true,
   "skip_h1_title": false,
   "title_cell": "Table of Contents",
   "title_sidebar": "Contents",
   "toc_cell": false,
   "toc_position": {},
   "toc_section_display": true,
   "toc_window_display": false
  }
 },
 "nbformat": 4,
 "nbformat_minor": 4
}
